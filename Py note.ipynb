{
 "cells": [
  {
   "cell_type": "code",
   "execution_count": null,
   "metadata": {},
   "outputs": [],
   "source": [
    "print(\"Hello World!\")"
   ]
  },
  {
   "cell_type": "code",
   "execution_count": null,
   "metadata": {},
   "outputs": [],
   "source": [
    "a=0\n",
    "b=2\n",
    "c = a * b\n",
    "print(c)"
   ]
  },
  {
   "cell_type": "code",
   "execution_count": null,
   "metadata": {},
   "outputs": [],
   "source": [
    "name = 'Sambit'\n",
    "age = 25\n",
    "print(name, 'is a boy')\n",
    "print(name+ ' is', age)\n",
    "print(name+' is from india')"
   ]
  },
  {
   "cell_type": "markdown",
   "metadata": {},
   "source": [
    "Arithmatic Operators."
   ]
  },
  {
   "cell_type": "code",
   "execution_count": null,
   "metadata": {},
   "outputs": [],
   "source": [
    "num1 = 2 \n",
    "num2 = 5\n",
    "print('Addition is' , num1 + num2)\n",
    "print('Substraction is' , num2 - num1)\n",
    "print('Multiplication is', num1 * num2)\n",
    "print('Division is ' , num1 / num2)"
   ]
  },
  {
   "cell_type": "markdown",
   "metadata": {},
   "source": [
    "Note : In python we can comment code using  \" # \","
   ]
  },
  {
   "cell_type": "markdown",
   "metadata": {},
   "source": [
    "Relational Operators\n",
    "(it gives output in boolean forms  \"true\"  \"false\")"
   ]
  },
  {
   "cell_type": "code",
   "execution_count": null,
   "metadata": {},
   "outputs": [],
   "source": [
    "print (2 > 5)\n",
    "print( 5 >= 5)\n",
    "print (5 == '5')"
   ]
  },
  {
   "cell_type": "code",
   "execution_count": null,
   "metadata": {},
   "outputs": [],
   "source": [
    "#Type-casting in Python\n",
    "a=1\n",
    "print(type(a))\n",
    "\n",
    "b=\"1\"\n",
    "print(type(b))\n",
    "\n",
    "c= int((b))\n",
    "print(type(c))\n",
    "\n",
    "print (a + c)\n",
    "\n",
    "mynum = 26\n",
    "\n",
    "mynum2 = str(mynum)\n",
    "\n",
    "print(type(mynum2))\n",
    "\n",
    "\n",
    "#All numerical type converted into string\n",
    "\n",
    "#str not converted to num\n",
    "\n",
    "\n"
   ]
  },
  {
   "cell_type": "markdown",
   "metadata": {},
   "source": []
  },
  {
   "cell_type": "markdown",
   "metadata": {},
   "source": [
    "Write A program to find a year is leap year or not"
   ]
  },
  {
   "cell_type": "code",
   "execution_count": null,
   "metadata": {},
   "outputs": [],
   "source": [
    "year = int(input(\"Please enter year\"))\n",
    "\n",
    "if (year % 4 == 0 and year % 100 != 0) or (year % 400 == 0):\n",
    "\n",
    "  print(f'{year} is a leap year')\n",
    "\n",
    "else:\n",
    "  print (f'{year} is not a leap year')\n"
   ]
  },
  {
   "cell_type": "markdown",
   "metadata": {},
   "source": [
    "Q2: Login Authentication using conditional statement. Assume\n",
    "you have a predefined username and password.\n",
    "\n",
    "Write a program that prompts the user to enter a username\n",
    "and password and checks whether they match. Provide\n",
    "appropriate messages for the following cases:\n",
    "· Both username and password are correct.\n",
    "· Username is correct but password is incorrect.\n",
    "· Username is incorrect."
   ]
  },
  {
   "cell_type": "code",
   "execution_count": null,
   "metadata": {},
   "outputs": [],
   "source": [
    "username = 'sambit'\n",
    "password = 12345\n",
    "\n",
    "enteredUser = input('Please enter username')\n",
    "enteredPassword = input('Please enter password')\n",
    "\n",
    "\n",
    "if enteredUser == username:\n",
    "    if enteredPassword == password:\n",
    "        print('Username & password successful')\n",
    "    else:\n",
    "        print(\"Password matched\")\n",
    "else:\n",
    "    print('Invalid username')"
   ]
  },
  {
   "cell_type": "code",
   "execution_count": null,
   "metadata": {},
   "outputs": [],
   "source": [
    "#if statement\n",
    "\n",
    "age = int(input(\"enter your age\"))\n",
    "\n",
    "if age > 18:\n",
    "  print('you can apply for license')\n",
    "print('speed thrills but kills')"
   ]
  },
  {
   "cell_type": "markdown",
   "metadata": {},
   "source": []
  },
  {
   "cell_type": "markdown",
   "metadata": {},
   "source": [
    "Escape Character in pytho"
   ]
  },
  {
   "cell_type": "code",
   "execution_count": null,
   "metadata": {},
   "outputs": [],
   "source": [
    "print('I\\'ll call you later')"
   ]
  },
  {
   "cell_type": "code",
   "execution_count": null,
   "metadata": {},
   "outputs": [],
   "source": [
    "print(\"Prepair well for \\\"Gate-2024\\\" exam\")"
   ]
  },
  {
   "cell_type": "code",
   "execution_count": null,
   "metadata": {},
   "outputs": [],
   "source": [
    "a = \"Hello,\\nSmasher\"\n",
    "print(a)"
   ]
  },
  {
   "cell_type": "markdown",
   "metadata": {},
   "source": []
  },
  {
   "cell_type": "markdown",
   "metadata": {},
   "source": [
    "Identy Operator"
   ]
  },
  {
   "cell_type": "code",
   "execution_count": null,
   "metadata": {},
   "outputs": [],
   "source": [
    "x = 10\n",
    "y = 10\n",
    "print(x is y)\n",
    "print(id(x))\n",
    "print(id(y))"
   ]
  },
  {
   "cell_type": "code",
   "execution_count": null,
   "metadata": {},
   "outputs": [],
   "source": [
    "x = 10\n",
    "y = 20\n",
    "print(x is y)\n",
    "print(id(x))\n",
    "print(id(y))\n",
    "\n",
    "\n",
    "#identity operator only works on small intizor values not on lists."
   ]
  },
  {
   "cell_type": "markdown",
   "metadata": {},
   "source": []
  },
  {
   "cell_type": "markdown",
   "metadata": {},
   "source": [
    "Membership Operator\n",
    "\n",
    "These Operators used to test whether a specific value or item\n",
    "is present within a sequence, such as a string, list, tuple, or set.\n",
    "\n",
    "There are 2 membership operators: 'in' & 'not in'\n",
    "always return \"True or False\" as a output.\n"
   ]
  },
  {
   "cell_type": "code",
   "execution_count": null,
   "metadata": {},
   "outputs": [],
   "source": [
    "list1 = [1,2,3,4,5,6,7,8,9]\n",
    "print(1 in list1)"
   ]
  },
  {
   "cell_type": "code",
   "execution_count": null,
   "metadata": {},
   "outputs": [],
   "source": [
    "reg_user = [\"varun\", \"sambit\"]\n",
    "\n",
    "name = input(\"Enter Your Name\")\n",
    "\n",
    "if name in reg_user:\n",
    "  print(\"Access granted.Welcome\")\n",
    "else:\n",
    "  print(\"Access denied, User not registered\")"
   ]
  },
  {
   "cell_type": "markdown",
   "metadata": {},
   "source": [
    "Strings in Python\n",
    "\n",
    "--> A string is a sequence of characters.\n",
    "-->Strings are immutable and ordered."
   ]
  },
  {
   "cell_type": "code",
   "execution_count": null,
   "metadata": {},
   "outputs": [],
   "source": [
    "name = \"Sambit\";\n",
    "print(len(name))\n",
    "print(name[0])"
   ]
  },
  {
   "cell_type": "code",
   "execution_count": null,
   "metadata": {},
   "outputs": [],
   "source": [
    "list1 = [1,2,3,4,5,6,7,8,9]\n",
    "\n",
    "list1[0] = 30\n",
    "print(list1)"
   ]
  },
  {
   "cell_type": "code",
   "execution_count": null,
   "metadata": {},
   "outputs": [],
   "source": [
    "Str1 = \"Sambit\"\n",
    "Str2 = \"Sutar\"\n",
    "\n",
    "print(Str1 +\" \"+ Str2)"
   ]
  },
  {
   "cell_type": "code",
   "execution_count": null,
   "metadata": {},
   "outputs": [],
   "source": [
    "first = \"Sambit\"\n",
    "last = \"Sutar\"\n",
    "age = 25\n",
    "\n",
    "print(f'My first name is {first} , last name is {last} and my age is {age} ')"
   ]
  },
  {
   "cell_type": "code",
   "execution_count": null,
   "metadata": {},
   "outputs": [],
   "source": [
    "first = \"Sambit\"\n",
    "last = \"Sutar\"\n",
    "age = 25\n",
    "\n",
    "print('My first name is {} , last name is {} and my age is {} '.format(first,last,age))"
   ]
  },
  {
   "cell_type": "code",
   "execution_count": null,
   "metadata": {},
   "outputs": [],
   "source": [
    "# Slicing in python strings\n",
    "\n",
    "string1 = \"Gate Smashers\"\n",
    "substr1 = string1[5:10]\n",
    "substr2 = string1[:10]\n",
    "substr3 = string1[5:]\n",
    "substr4 = string1[:]\n",
    "substr5 = string1[-8 :- 3]\n",
    "substr6 = string1[5 :: 2]\n",
    "substr7 = string1[ ::- 1]\n",
    "substr8 = string1[5:12].upper()\n",
    "\n",
    "print(substr1)\n",
    "print(substr2)\n",
    "print(substr3)\n",
    "print(substr4)\n",
    "print(substr5)\n",
    "print(substr6)\n",
    "print(substr7)\n",
    "print(substr8)"
   ]
  },
  {
   "cell_type": "code",
   "execution_count": null,
   "metadata": {},
   "outputs": [],
   "source": [
    "#len()\n",
    "str1 = 'Hello World'\n",
    "print(len(str1))"
   ]
  },
  {
   "cell_type": "code",
   "execution_count": null,
   "metadata": {},
   "outputs": [],
   "source": [
    "#title()\n",
    "str1 = 'Hello World'\n",
    "print(str1.title())"
   ]
  },
  {
   "cell_type": "code",
   "execution_count": null,
   "metadata": {},
   "outputs": [],
   "source": [
    "#lower()\n",
    "str1 = 'Hello World'\n",
    "print(str1.lower())"
   ]
  },
  {
   "cell_type": "code",
   "execution_count": null,
   "metadata": {},
   "outputs": [],
   "source": [
    "#lower()\n",
    "str1 = 'Hello World'\n",
    "print(str1.upper())"
   ]
  },
  {
   "cell_type": "code",
   "execution_count": null,
   "metadata": {},
   "outputs": [],
   "source": [
    "#count(str,start,end)\n",
    "str1 = \"Hello World!Hello Hello\"\n",
    "print(str1.count('Hello'))\n",
    "print(str1.count('Hello',13,25))"
   ]
  },
  {
   "cell_type": "markdown",
   "metadata": {},
   "source": [
    "==========================Loops in Python===========                    \n",
    "\n",
    "Loops enable you to perform repetitive tasks efficiently without\n",
    "writing redundant code. They iterate over a sequence (like a list,\n",
    "tuple, string, or range) or execute a block of code as long as a\n",
    "specific condition is met.\n",
    "\n",
    "Types of Loops in Python\n",
    "1. While loop\n",
    "2. For loop\n",
    "3. Nested loop"
   ]
  },
  {
   "cell_type": "code",
   "execution_count": null,
   "metadata": {},
   "outputs": [],
   "source": [
    "'''While Loop\n",
    "The while loop repeatedly executes a block of code as long as a given\n",
    "condition remains True. It checks the condition before each iteration.\n",
    "\n",
    "Syntax:\n",
    "while condition:'''\n",
    "\n",
    "#Example\n",
    "\n",
    "count = 0\n",
    "while count <10:\n",
    "  print(count)\n",
    "  count += 1"
   ]
  },
  {
   "cell_type": "code",
   "execution_count": null,
   "metadata": {},
   "outputs": [],
   "source": [
    "'''For Loop\n",
    "The for loop in Python is used to iterate over a sequence (such as a list,tuple, dictionary, set, or string) and execute a block of code for each element in that sequence.\n",
    "\n",
    "Syntax:\n",
    "for variable in sequence:\n",
    "# Code block to execute'''\n",
    "\n",
    "'''name = \"Sambit Kumar Sutar\"\n",
    "\n",
    "for i in name:\n",
    "  print(i)'''\n",
    "\n",
    "names = [\"Sambit\", \"Sujit\", \"Sanjib\", \"Sriya\"]\n",
    "\n",
    "for i in names:\n",
    "  print(i)"
   ]
  },
  {
   "cell_type": "code",
   "execution_count": null,
   "metadata": {},
   "outputs": [],
   "source": [
    "#range()\n",
    "\n",
    "for x in range(5,50,5):\n",
    "  print(x)"
   ]
  },
  {
   "cell_type": "markdown",
   "metadata": {},
   "source": [
    "Loop Control Statements\n",
    "Loop control statements allow you to alter the normal flow\n",
    "of a loop.\n",
    "Python supports 3 clauses within loops:\n",
    "\n",
    ". pass statement\n",
    ". break Statement\n",
    "· continue Statement"
   ]
  },
  {
   "cell_type": "code",
   "execution_count": null,
   "metadata": {},
   "outputs": [],
   "source": [
    "'''Loop Control - pass Statement\n",
    "pass Statement : The pass statement is used as a placeholder (it\n",
    "does nothing) for the future code, and runs entire code without causing\n",
    "any syntax error. (already covered in functions)\n",
    "\n",
    "Example:\n",
    "for i in range(5):\n",
    "# code to be updated\n",
    "pass'''\n",
    "\n",
    "for i in range(50):\n",
    "  pass"
   ]
  },
  {
   "cell_type": "code",
   "execution_count": null,
   "metadata": {},
   "outputs": [],
   "source": [
    "count = 5\n",
    "while count > 0:\n",
    "    if count == 3:\n",
    "        pass  # 'pass' does nothing, but count should still decrease\n",
    "    else:\n",
    "        print(count)\n",
    "    count -= 1  # Move this inside the loop\n"
   ]
  },
  {
   "cell_type": "markdown",
   "metadata": {},
   "source": [
    "Loop Control - break Statement\n",
    "\n",
    "break Statement: The break statement terminates the loop\n",
    "entirely, exiting from it immediately.\n",
    "\n",
    "Example:\n",
    "for i in range(5):\n",
    "if i == 3:\n",
    "break\n",
    "print(i)\n",
    "\n",
    "Above example, the loop terminated when condition met true"
   ]
  },
  {
   "cell_type": "code",
   "execution_count": null,
   "metadata": {},
   "outputs": [],
   "source": [
    "for i in range(10):\n",
    "  if i == 5:\n",
    "    break\n",
    "  print(i)"
   ]
  },
  {
   "cell_type": "markdown",
   "metadata": {},
   "source": [
    "Loop Control - continue Statement\n",
    "\n",
    "continue Statement: The continue statement skips the current\n",
    "iteration and moves to the next one.\n",
    "\n",
    "Example:\n",
    "for i in range(5):\n",
    "if i == 3:\n",
    "continue\n",
    "print(i)\n",
    "\n",
    "Above example, the loop skips when condition met true for i == 3"
   ]
  },
  {
   "cell_type": "code",
   "execution_count": null,
   "metadata": {},
   "outputs": [],
   "source": [
    "for i in range(10):\n",
    "  if i == 4:\n",
    "    continue\n",
    "  print(i)"
   ]
  },
  {
   "cell_type": "code",
   "execution_count": null,
   "metadata": {},
   "outputs": [],
   "source": [
    "count = 5\n",
    "while count > 0:\n",
    "  if count == 3:\n",
    "    continue\n",
    "  else:\n",
    "    count = count + 1"
   ]
  },
  {
   "cell_type": "code",
   "execution_count": null,
   "metadata": {},
   "outputs": [],
   "source": [
    "while True:\n",
    "  user_input = input(\"Enter /'STOP/' TO STOP\")\n",
    "  if user_input == \"STOP\":\n",
    "    print('Congrats, you re  right')\n",
    "    break\n",
    "  print(\"sorry\")"
   ]
  },
  {
   "cell_type": "markdown",
   "metadata": {},
   "source": [
    "==============================nested loops=============================\n",
    "Nested Loop\n",
    "Loop inside another loop is nested loop. This means that for\n",
    "every single time the outer loop runs, the inner loop runs all of\n",
    "its iterations.\n",
    "\n",
    "Why Use Nested Loops?\n",
    ". Handling Multi-Dimensional Data: Such as matrices, grids, or lists of licts.\n",
    ". Complex Iterations: Operations depend on multiple variables  dimensions.\n",
    "· Pattern Generation: Creating patterns, such as in graphics"
   ]
  },
  {
   "cell_type": "markdown",
   "metadata": {},
   "source": [
    "===========================List In Python==============================\n",
    "\n",
    "->The data type list is an ordered sequence that is mutable\n",
    "and made up of one or more elements.\n",
    "·> A list can have elements of different data types, such as\n",
    "integer, float, string, tuple or even another list.\n",
    ".> A list is very useful to group together elements of mixed\n",
    "data types.\n",
    "·> Elements of a list are enclosed in square brackets and are\n",
    "separated by a comma.\n",
    "·> List indices also start from 0."
   ]
  }
 ],
 "metadata": {
  "kernelspec": {
   "display_name": "Python 3",
   "language": "python",
   "name": "python3"
  },
  "language_info": {
   "codemirror_mode": {
    "name": "ipython",
    "version": 3
   },
   "file_extension": ".py",
   "mimetype": "text/x-python",
   "name": "python",
   "nbconvert_exporter": "python",
   "pygments_lexer": "ipython3",
   "version": "3.13.0"
  }
 },
 "nbformat": 4,
 "nbformat_minor": 2
}
